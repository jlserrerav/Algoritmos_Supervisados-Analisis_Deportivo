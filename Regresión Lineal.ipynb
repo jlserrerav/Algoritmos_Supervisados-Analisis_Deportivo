
{
 "cells": [
  {
   "cell_type": "markdown",
   "metadata": {},
   "source": [
    "## 📌 Introducción a la Regresión Lineal  \n",
    "\n",
    "### ¿Qué es la Regresión Lineal?  \n",
    "La **Regresión Lineal** es uno de los modelos más simples y fundamentales en Machine Learning. Se usa para **predecir un valor numérico** (variable dependiente) en función de una o más variables independientes. Su objetivo es encontrar una relación matemática entre las variables y representarla con una **línea recta** que mejor se ajuste a los datos.  \n",
    "\n",
    "---\n",
    "\n",
    "### 🌟 Ejemplo práctico  \n",
    "Imaginemos que queremos analizar **cómo influye la edad en la capacidad de ataque de un jugador de voleibol**.  \n",
    "\n",
    "El modelo tratará de encontrar una línea que relacione ambas variables para hacer predicciones futuras. Su fórmula es:  \n",
    "\n",
    "\\[\n",
    "y = b_0 + b_1 x\n",
    "\\]\n",
    "\n",
    "Donde:  \n",
    "- \\( y \\) es el valor que queremos predecir (**capacidad de ataque**).  \n",
    "- \\( x \\) es la variable que usamos para predecir (**edad del jugador**).  \n",
    "- \\( b_0 \\) y \\( b_1 \\) son valores que el modelo calcula para ajustar la mejor línea posible.  \n",
    "\n",
    "El modelo se entrena **ajustando estos valores** para minimizar el error y hacer predicciones más precisas.  \n",
    "\n",
    "En las siguientes celdas aplicaremos este modelo al dataset de voleibol. 🚀  \n",
    "\n",
    "\n",
    "Si le apetece entrar mas en detalle con el algoritmo recomiendo esta explicación de AWS: https://aws.amazon.com/es/what-is/linear-regression/"
   ]
  },
  {
   "cell_type": "markdown",
   "metadata": {},
   "source": [
    "Los import necesarios"
   ]
  },
  {
   "cell_type": "code",
   "execution_count": null,
   "metadata": {},
   "outputs": [],
   "source": [
    "import pandas as pd # Libreria para manejar dataframes\n",
    "import matplotlib.pyplot as plt # Libreria para graficos\n",
    "import seaborn as sns # Libreria para graficos \n",
    "import numpy as np # Libreria para manejar arreglos\n",
    "\n",
    "\n",
    "from sklearn.model_selection import train_test_split # Libreria para separar datos de entrenamiento y test\n",
    "from sklearn.linear_model import LinearRegression # Libreria para regresion lineal\n",
    "\n",
    "\n"
   ]
  },
  {
   "cell_type": "markdown",
   "metadata": {},
   "source": [
    "### 1. Cargar el dataset y explorarlo\n",
    "\n",
    "Un dataset se carga para poder usarlo, y se explora para poder ver los tipos de datos y así, saber los procedimientos "
   ]
  },
  {
   "cell_type": "code",
   "execution_count": 10,
   "metadata": {},
   "outputs": [
    {
     "name": "stdout",
     "output_type": "stream",
     "text": [
      "<class 'pandas.core.frame.DataFrame'>\n",
      "RangeIndex: 131 entries, 0 to 130\n",
      "Data columns (total 10 columns):\n",
      " #   Column    Non-Null Count  Dtype  \n",
      "---  ------    --------------  -----  \n",
      " 0   Player    131 non-null    object \n",
      " 1   Country   131 non-null    object \n",
      " 2   Age       131 non-null    int64  \n",
      " 3   Attack    131 non-null    float64\n",
      " 4   Block     131 non-null    float64\n",
      " 5   Serve     131 non-null    float64\n",
      " 6   Set       131 non-null    float64\n",
      " 7   Dig       131 non-null    float64\n",
      " 8   Receive   131 non-null    float64\n",
      " 9   Position  131 non-null    object \n",
      "dtypes: float64(6), int64(1), object(3)\n",
      "memory usage: 10.4+ KB\n"
     ]
    },
    {
     "data": {
      "text/html": [
       "<div>\n",
       "<style scoped>\n",
       "    .dataframe tbody tr th:only-of-type {\n",
       "        vertical-align: middle;\n",
       "    }\n",
       "\n",
       "    .dataframe tbody tr th {\n",
       "        vertical-align: top;\n",
       "    }\n",
       "\n",
       "    .dataframe thead th {\n",
       "        text-align: right;\n",
       "    }\n",
       "</style>\n",
       "<table border=\"1\" class=\"dataframe\">\n",
       "  <thead>\n",
       "    <tr style=\"text-align: right;\">\n",
       "      <th></th>\n",
       "      <th>Age</th>\n",
       "      <th>Attack</th>\n",
       "      <th>Block</th>\n",
       "      <th>Serve</th>\n",
       "      <th>Set</th>\n",
       "      <th>Dig</th>\n",
       "      <th>Receive</th>\n",
       "    </tr>\n",
       "  </thead>\n",
       "  <tbody>\n",
       "    <tr>\n",
       "      <th>count</th>\n",
       "      <td>131.000000</td>\n",
       "      <td>131.000000</td>\n",
       "      <td>131.000000</td>\n",
       "      <td>131.000000</td>\n",
       "      <td>131.000000</td>\n",
       "      <td>131.000000</td>\n",
       "      <td>131.000000</td>\n",
       "    </tr>\n",
       "    <tr>\n",
       "      <th>mean</th>\n",
       "      <td>27.809160</td>\n",
       "      <td>5.642672</td>\n",
       "      <td>0.845573</td>\n",
       "      <td>0.535802</td>\n",
       "      <td>2.192595</td>\n",
       "      <td>3.428397</td>\n",
       "      <td>1.684198</td>\n",
       "    </tr>\n",
       "    <tr>\n",
       "      <th>std</th>\n",
       "      <td>4.186268</td>\n",
       "      <td>4.256229</td>\n",
       "      <td>0.700896</td>\n",
       "      <td>0.454346</td>\n",
       "      <td>6.031587</td>\n",
       "      <td>2.077823</td>\n",
       "      <td>1.989939</td>\n",
       "    </tr>\n",
       "    <tr>\n",
       "      <th>min</th>\n",
       "      <td>19.000000</td>\n",
       "      <td>0.000000</td>\n",
       "      <td>0.000000</td>\n",
       "      <td>0.000000</td>\n",
       "      <td>0.000000</td>\n",
       "      <td>0.530000</td>\n",
       "      <td>0.000000</td>\n",
       "    </tr>\n",
       "    <tr>\n",
       "      <th>25%</th>\n",
       "      <td>25.000000</td>\n",
       "      <td>2.800000</td>\n",
       "      <td>0.370000</td>\n",
       "      <td>0.240000</td>\n",
       "      <td>0.000000</td>\n",
       "      <td>1.920000</td>\n",
       "      <td>0.000000</td>\n",
       "    </tr>\n",
       "    <tr>\n",
       "      <th>50%</th>\n",
       "      <td>27.000000</td>\n",
       "      <td>5.170000</td>\n",
       "      <td>0.690000</td>\n",
       "      <td>0.420000</td>\n",
       "      <td>0.000000</td>\n",
       "      <td>3.000000</td>\n",
       "      <td>0.330000</td>\n",
       "    </tr>\n",
       "    <tr>\n",
       "      <th>75%</th>\n",
       "      <td>30.000000</td>\n",
       "      <td>8.600000</td>\n",
       "      <td>1.140000</td>\n",
       "      <td>0.760000</td>\n",
       "      <td>0.000000</td>\n",
       "      <td>4.510000</td>\n",
       "      <td>3.385000</td>\n",
       "    </tr>\n",
       "    <tr>\n",
       "      <th>max</th>\n",
       "      <td>41.000000</td>\n",
       "      <td>15.800000</td>\n",
       "      <td>4.080000</td>\n",
       "      <td>2.080000</td>\n",
       "      <td>26.890000</td>\n",
       "      <td>11.440000</td>\n",
       "      <td>6.690000</td>\n",
       "    </tr>\n",
       "  </tbody>\n",
       "</table>\n",
       "</div>"
      ],
      "text/plain": [
       "              Age      Attack       Block       Serve         Set         Dig  \\\n",
       "count  131.000000  131.000000  131.000000  131.000000  131.000000  131.000000   \n",
       "mean    27.809160    5.642672    0.845573    0.535802    2.192595    3.428397   \n",
       "std      4.186268    4.256229    0.700896    0.454346    6.031587    2.077823   \n",
       "min     19.000000    0.000000    0.000000    0.000000    0.000000    0.530000   \n",
       "25%     25.000000    2.800000    0.370000    0.240000    0.000000    1.920000   \n",
       "50%     27.000000    5.170000    0.690000    0.420000    0.000000    3.000000   \n",
       "75%     30.000000    8.600000    1.140000    0.760000    0.000000    4.510000   \n",
       "max     41.000000   15.800000    4.080000    2.080000   26.890000   11.440000   \n",
       "\n",
       "          Receive  \n",
       "count  131.000000  \n",
       "mean     1.684198  \n",
       "std      1.989939  \n",
       "min      0.000000  \n",
       "25%      0.000000  \n",
       "50%      0.330000  \n",
       "75%      3.385000  \n",
       "max      6.690000  "
      ]
     },
     "execution_count": 10,
     "metadata": {},
     "output_type": "execute_result"
    }
   ],
   "source": [
    "dataset = pd.read_csv('VNL2023.csv') # Cargamos el dataset en un dataframe de pandas\n",
    "\n",
    "dataset.head() # Mostramos las primeras 5 filas del dataset\n",
    "\n",
    "# Información general del dataset\n",
    "dataset.info()\n",
    "\n",
    "# Estadísticas descriptivas\n",
    "dataset.describe()"
   ]
  },
  {
   "cell_type": "markdown",
   "metadata": {},
   "source": [
    "# 📊 Exploración inicial del dataset  \n",
    "\n",
    "Antes de aplicar modelos, es fundamental entender nuestros datos. A continuación, analizamos la estructura del dataset.  \n",
    "\n",
    "---\n",
    "\n",
    "## 📌 Información del dataset  \n",
    "\n",
    "El dataset contiene **131 registros** y **10 columnas**:  \n",
    "\n",
    "| # | Columna   | Descripción |\n",
    "|---|----------|------------|\n",
    "| 1 | **Player** | Nombre del jugador |\n",
    "| 2 | **Country** | País del jugador |\n",
    "| 3 | **Age** | Edad del jugador |\n",
    "| 4 | **Attack** | Puntuación en ataque |\n",
    "| 5 | **Block** | Puntuación en bloqueo |\n",
    "| 6 | **Serve** | Puntuación en servicio |\n",
    "| 7 | **Set** | Puntuación en colocación |\n",
    "| 8 | **Dig** | Puntuación en defensa (excavación) |\n",
    "| 9 | **Receive** | Puntuación en recepción |\n",
    "| 10 | **Position** | Posición en el equipo |\n",
    "\n",
    "Todas las columnas tienen valores completos (**sin valores nulos**).  \n",
    "\n",
    "---\n",
    "\n",
    "## 📌 Estadísticas descriptivas  \n",
    "\n",
    "| Métrica  | Edad | Ataque | Bloqueo | Servicio | Colocación | Defensa | Recepción |\n",
    "|----------|------|--------|---------|----------|------------|---------|-----------|\n",
    "| **Cantidad** | 131  | 131    | 131     | 131      | 131        | 131     | 131       |\n",
    "| **Promedio** | 27.8  | 5.64   | 0.85    | 0.53     | 2.19       | 3.43    | 1.68      |\n",
    "| **Desviación Estándar** | 4.19  | 4.26   | 0.70    | 0.45     | 6.03       | 2.08    | 1.99      |\n",
    "| **Mínimo** | 19  | 0.0    | 0.0     | 0.0      | 0.0        | 0.53    | 0.0       |\n",
    "| **Percentil 25%** | 25  | 2.8    | 0.37    | 0.24     | 0.0        | 1.92    | 0.0       |\n",
    "| **Mediana (50%)** | 27  | 5.17   | 0.69    | 0.42     | 0.0        | 3.0     | 0.33      |\n",
    "| **Percentil 75%** | 30  | 8.6    | 1.14    | 0.76     | 0.0        | 4.51    | 3.39      |\n",
    "| **Máximo** | 41  | 15.8   | 4.08    | 2.08     | 26.89      | 11.44   | 6.69      |\n",
    "\n",
    "📌 **Observaciones clave:**  \n",
    "✅ La **edad promedio** de los jugadores es **27.8 años**.  \n",
    "✅ La **puntuación de ataque varía bastante** (desde 0 hasta 15.8).  \n",
    "✅ El **bloqueo, servicio y recepción tienen valores bajos**, lo que sugiere que algunos jugadores pueden especializarse en otras áreas.  \n",
    "✅ La **colocación (Set)** tiene una mediana de **0**, lo que indica que muchos jugadores no desempeñan esta función.  \n",
    "\n",
    "---\n"
   ]
  },
  {
   "cell_type": "markdown",
   "metadata": {},
   "source": [
    "## 2. Visualización de datos\n",
    "\n",
    "Para una mejor interpretación vamos a ver los datos en gráficos"
   ]
  },
  {
   "cell_type": "markdown",
   "metadata": {},
   "source": [
    "Exploramos el rango de edad"
   ]
  },
  {
   "cell_type": "code",
   "execution_count": 11,
   "metadata": {},
   "outputs": [
    {
     "data": {
      "image/png": "[encoded data removed]",
      "text/plain": [
       "<Figure size 800x500 with 1 Axes>"
      ]
     },
     "metadata": {},
     "output_type": "display_data"
    }
   ],
   "source": [
    "# Configurar estilo de gráficos\n",
    "sns.set_theme(style=\"whitegrid\")\n",
    "\n",
    "# Histograma de edades\n",
    "plt.figure(figsize=(8,5))\n",
    "sns.histplot(dataset[\"Age\"], bins=10, kde=True, color=\"blue\")\n",
    "plt.title(\"Distribución de la Edad de los Jugadores\")\n",
    "plt.xlabel(\"Edad\")\n",
    "plt.ylabel(\"Frecuencia\")\n",
    "plt.show()"
   ]
  },
  {
   "cell_type": "markdown",
   "metadata": {},
   "source": [
    "## 📊 Distribución de la Edad de los Jugadores  \n",
    "\n",
    "Este gráfico es un **histograma** que representa cómo se distribuyen las edades de los jugadores en nuestro dataset.  \n",
    "\n",
    "### 🔍 ¿Qué podemos observar?  \n",
    "✅ La mayoría de los jugadores tienen entre **25 y 30 años**, lo que indica que esta es la edad más común en la muestra.  \n",
    "✅ La distribución es **asimétrica a la derecha**, lo que significa que hay más jugadores jóvenes que veteranos.  \n",
    "✅ Hay menos jugadores por debajo de los **20 años** y por encima de los **35 años**.  \n",
    "\n",
    "### 📌 ¿Por qué es útil este análisis?  \n",
    "Comprender la distribución de la edad nos ayuda a ver si ciertas habilidades pueden estar relacionadas con la experiencia (edad) de los jugadores. En los siguientes análisis, veremos cómo la edad influye en el rendimiento. 🚀  \n"
   ]
  },
  {
   "cell_type": "markdown",
   "metadata": {},
   "source": [
    "## 3. Preparación de datos"
   ]
  },
  {
   "cell_type": "code",
   "execution_count": null,
   "metadata": {},
   "outputs": [
    {
     "name": "stdout",
     "output_type": "stream",
     "text": [
      "Ecuación del modelo: Attack = 9.84 + -0.15 * Age\n"
     ]
    }
   ],
   "source": [
    "# Definir variables\n",
    "X = dataset[[\"Age\"]]  # Variable independiente (Edad)\n",
    "y = dataset[\"Attack\"]  # Variable dependiente (Capacidad de ataque)\n",
    "\n",
    "# Dividir en conjunto de entrenamiento (80%) y prueba (20%)\n",
    "X_train, X_test, y_train, y_test = train_test_split(X, y, test_size=0.2, random_state=42)\n",
    "\n",
    "\n"
   ]
  },
  {
   "cell_type": "markdown",
   "metadata": {},
   "source": [
    "# 📈 Aplicando Regresión Lineal: Edad vs Capacidad de Ataque  \n",
    "\n",
    "Después de analizar los datos, aplicaremos **Regresión Lineal** para evaluar si la **edad** influye en la **capacidad de ataque** de los jugadores.  \n",
    "\n",
    "---\n",
    "\n",
    "## 📌 Preparar los datos  \n",
    "\n",
    "Antes de entrenar el modelo, debemos seleccionar nuestras variables:  \n",
    "\n",
    "- **Variable independiente (`X`)**: Edad del jugador (`Age`).  \n",
    "- **Variable dependiente (`y`)**: Capacidad de ataque (`Attack`).  \n",
    "\n",
    "También dividimos los datos en dos conjuntos:  \n",
    "- **Entrenamiento (80%)** → Usado para ajustar el modelo.  \n",
    "- **Prueba (20%)** → Usado para evaluar el modelo.  "
   ]
  },
  {
   "cell_type": "markdown",
   "metadata": {},
   "source": [
    "## 4. Entrenar modelo"
   ]
  },
  {
   "cell_type": "code",
   "execution_count": null,
   "metadata": {},
   "outputs": [],
   "source": [
    "# Crear y entrenar el modelo\n",
    "modelo = LinearRegression()\n",
    "modelo.fit(X_train, y_train)\n",
    "\n",
    "# Obtener coeficientes\n",
    "b0 = modelo.intercept_\n",
    "b1 = modelo.coef_[0]\n",
    "\n",
    "print(f\"Ecuación del modelo: Attack = {b0:.2f} + {b1:.2f} * Age\")"
   ]
  },
  {
   "cell_type": "markdown",
   "metadata": {},
   "source": [
    "## 📌 Entrenar el Modelo  \n",
    "\n",
    "Ahora que hemos preparado los datos, es momento de entrenar nuestro modelo de **Regresión Lineal**.  \n",
    "\n",
    "### 🔹 Creación y entrenamiento  \n",
    "Utilizaremos `LinearRegression` de **scikit-learn** para entrenar el modelo con los datos de entrenamiento."
   ]
  },
  {
   "cell_type": "markdown",
   "metadata": {},
   "source": [
    "## 5. Visualizar la línea de regresión"
   ]
  },
  {
   "cell_type": "code",
   "execution_count": 17,
   "metadata": {},
   "outputs": [
    {
     "data": {
      "image/png": "[encoded data removed]",
      "text/plain": [
       "<Figure size 800x500 with 1 Axes>"
      ]
     },
     "metadata": {},
     "output_type": "display_data"
    }
   ],
   "source": [
    "\n",
    "# Gráfico de dispersión + recta de regresión\n",
    "plt.figure(figsize=(8,5))\n",
    "sns.scatterplot(x=X_train[\"Age\"], y=y_train, alpha=0.7, label=\"Datos reales\")\n",
    "plt.plot(X_train, modelo.predict(X_train), color=\"red\", label=\"Línea de regresión\")\n",
    "plt.title(\"Regresión Lineal: Edad vs Capacidad de Ataque\")\n",
    "plt.xlabel(\"Edad\")\n",
    "plt.ylabel(\"Capacidad de Ataque\")\n",
    "plt.legend()\n",
    "plt.show()\n"
   ]
  },
  {
   "cell_type": "markdown",
   "metadata": {},
   "source": [
    "## 📊 Visualización de la Regresión Lineal  \n",
    "\n",
    "En el gráfico, representamos la relación entre la **edad** de los jugadores y su **capacidad de ataque**, junto con la **línea de regresión** ajustada por el modelo.\n",
    "\n",
    "### 🔹 Interpretación del gráfico  \n",
    "- 🔵 **Puntos azules**: Representan los valores reales del conjunto de entrenamiento.  \n",
    "- 🔴 **Línea roja**: Representa la predicción del modelo de regresión lineal.  \n",
    "- 📉 La pendiente de la línea es **negativa**, lo que sugiere que a mayor edad, la capacidad de ataque **tiende a disminuir**.  \n",
    "\n",
    "### 🔍 ¿Qué significa esto?  \n",
    "- Si la relación fuera fuerte, los puntos estarían **más cerca de la línea roja**.  \n",
    "- Sin embargo, los datos están bastante dispersos, lo que indica que la edad no es un factor **determinante** para la capacidad de ataque.  \n",
    "- La regresión lineal intenta modelar una relación **lineal**, pero puede que una **relación más compleja** se ajuste mejor a los datos.  \n"
   ]
  }
 ],
 "metadata": {
  "kernelspec": {
   "display_name": "Python 3",
   "language": "python",
   "name": "python3"
  },
  "language_info": {
   "codemirror_mode": {
    "name": "ipython",
    "version": 3
   },
   "file_extension": ".py",
   "mimetype": "text/x-python",
   "name": "python",
   "nbconvert_exporter": "python",
   "pygments_lexer": "ipython3",
   "version": "3.11.0"
  }
 },
 "nbformat": 4,
 "nbformat_minor": 2
}
